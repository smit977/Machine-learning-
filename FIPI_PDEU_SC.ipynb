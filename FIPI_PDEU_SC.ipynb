{
  "nbformat": 4,
  "nbformat_minor": 0,
  "metadata": {
    "colab": {
      "name": "FIPI PDEU SC.ipynb",
      "provenance": [],
      "collapsed_sections": [],
      "mount_file_id": "18PvqkR7OXnpz6xk7QMaaZ9tRFUNp1L-D",
      "authorship_tag": "ABX9TyO6mboYyQrzP1e+o//bKASN",
      "include_colab_link": true
    },
    "kernelspec": {
      "name": "python3",
      "display_name": "Python 3"
    },
    "language_info": {
      "name": "python"
    }
  },
  "cells": [
    {
      "cell_type": "markdown",
      "metadata": {
        "id": "view-in-github",
        "colab_type": "text"
      },
      "source": [
        "<a href=\"https://colab.research.google.com/github/smit977/Machine-learning-/blob/master/FIPI_PDEU_SC.ipynb\" target=\"_parent\"><img src=\"https://colab.research.google.com/assets/colab-badge.svg\" alt=\"Open In Colab\"/></a>"
      ]
    },
    {
      "cell_type": "code",
      "metadata": {
        "id": "XzTRDVcp10Nc"
      },
      "source": [
        "import pandas as pd\n",
        "import numpy as np\n",
        "from sklearn.preprocessing import MinMaxScaler\n"
      ],
      "execution_count": 1,
      "outputs": []
    },
    {
      "cell_type": "markdown",
      "metadata": {
        "id": "f7uict3L4FOz"
      },
      "source": [
        "# **DATA EXPLORATION**"
      ]
    },
    {
      "cell_type": "code",
      "metadata": {
        "id": "F01fsKyd2HYi"
      },
      "source": [
        "#read data\n",
        "train=pd.read_excel(\"/content/drive/MyDrive/dataset/kk/input_data_quiz.xlsx\")\n",
        "test=pd.read_excel(\"/content/drive/MyDrive/dataset/kk/test_data_quiz.xlsx\")"
      ],
      "execution_count": 2,
      "outputs": []
    },
    {
      "cell_type": "code",
      "metadata": {
        "colab": {
          "base_uri": "https://localhost:8080/",
          "height": 222
        },
        "id": "J5DdcOhF2V47",
        "outputId": "88581102-7a59-4c4c-9dbd-58ed1c9b7513"
      },
      "source": [
        "train.head()"
      ],
      "execution_count": 3,
      "outputs": [
        {
          "output_type": "execute_result",
          "data": {
            "text/html": [
              "<div>\n",
              "<style scoped>\n",
              "    .dataframe tbody tr th:only-of-type {\n",
              "        vertical-align: middle;\n",
              "    }\n",
              "\n",
              "    .dataframe tbody tr th {\n",
              "        vertical-align: top;\n",
              "    }\n",
              "\n",
              "    .dataframe thead th {\n",
              "        text-align: right;\n",
              "    }\n",
              "</style>\n",
              "<table border=\"1\" class=\"dataframe\">\n",
              "  <thead>\n",
              "    <tr style=\"text-align: right;\">\n",
              "      <th></th>\n",
              "      <th>NPD_WELL_BORE_CODE</th>\n",
              "      <th>NPD_WELL_BORE_NAME</th>\n",
              "      <th>ON_STREAM_HRS</th>\n",
              "      <th>AVG_DOWNHOLE_PRESSURE</th>\n",
              "      <th>AVG_DOWNHOLE_TEMPERATURE</th>\n",
              "      <th>AVG_DP_TUBING</th>\n",
              "      <th>AVG_ANNULUS_PRESS</th>\n",
              "      <th>AVG_CHOKE_SIZE_P</th>\n",
              "      <th>AVG_WHP_P</th>\n",
              "      <th>AVG_WHT_P</th>\n",
              "      <th>DP_CHOKE_SIZE</th>\n",
              "      <th>BORE_OIL_VOL</th>\n",
              "      <th>BORE_GAS_VOL</th>\n",
              "      <th>BORE_WAT_VOL</th>\n",
              "    </tr>\n",
              "  </thead>\n",
              "  <tbody>\n",
              "    <tr>\n",
              "      <th>0</th>\n",
              "      <td>5599.0</td>\n",
              "      <td>15/9-F-12</td>\n",
              "      <td>11.50</td>\n",
              "      <td>308.056</td>\n",
              "      <td>104.418</td>\n",
              "      <td>201.250</td>\n",
              "      <td>18.640</td>\n",
              "      <td>14.48443</td>\n",
              "      <td>106.806</td>\n",
              "      <td>16.295</td>\n",
              "      <td>92.475</td>\n",
              "      <td>285.0</td>\n",
              "      <td>38889.0</td>\n",
              "      <td>385.0</td>\n",
              "    </tr>\n",
              "    <tr>\n",
              "      <th>1</th>\n",
              "      <td>5599.0</td>\n",
              "      <td>15/9-F-12</td>\n",
              "      <td>24.00</td>\n",
              "      <td>303.034</td>\n",
              "      <td>105.403</td>\n",
              "      <td>182.145</td>\n",
              "      <td>16.467</td>\n",
              "      <td>22.83299</td>\n",
              "      <td>120.889</td>\n",
              "      <td>53.374</td>\n",
              "      <td>89.620</td>\n",
              "      <td>1870.0</td>\n",
              "      <td>285246.0</td>\n",
              "      <td>7.0</td>\n",
              "    </tr>\n",
              "    <tr>\n",
              "      <th>2</th>\n",
              "      <td>5599.0</td>\n",
              "      <td>15/9-F-12</td>\n",
              "      <td>22.50</td>\n",
              "      <td>295.586</td>\n",
              "      <td>105.775</td>\n",
              "      <td>181.868</td>\n",
              "      <td>12.660</td>\n",
              "      <td>31.24997</td>\n",
              "      <td>113.718</td>\n",
              "      <td>72.738</td>\n",
              "      <td>80.120</td>\n",
              "      <td>3124.0</td>\n",
              "      <td>509955.0</td>\n",
              "      <td>1.0</td>\n",
              "    </tr>\n",
              "    <tr>\n",
              "      <th>3</th>\n",
              "      <td>5599.0</td>\n",
              "      <td>15/9-F-12</td>\n",
              "      <td>23.15</td>\n",
              "      <td>297.663</td>\n",
              "      <td>105.752</td>\n",
              "      <td>180.832</td>\n",
              "      <td>5.264</td>\n",
              "      <td>28.51893</td>\n",
              "      <td>116.831</td>\n",
              "      <td>69.996</td>\n",
              "      <td>84.251</td>\n",
              "      <td>2608.0</td>\n",
              "      <td>383427.0</td>\n",
              "      <td>1.0</td>\n",
              "    </tr>\n",
              "    <tr>\n",
              "      <th>4</th>\n",
              "      <td>5599.0</td>\n",
              "      <td>15/9-F-12</td>\n",
              "      <td>24.00</td>\n",
              "      <td>295.936</td>\n",
              "      <td>105.811</td>\n",
              "      <td>180.501</td>\n",
              "      <td>12.385</td>\n",
              "      <td>30.22790</td>\n",
              "      <td>115.434</td>\n",
              "      <td>71.518</td>\n",
              "      <td>82.359</td>\n",
              "      <td>3052.0</td>\n",
              "      <td>418474.0</td>\n",
              "      <td>5.0</td>\n",
              "    </tr>\n",
              "  </tbody>\n",
              "</table>\n",
              "</div>"
            ],
            "text/plain": [
              "   NPD_WELL_BORE_CODE NPD_WELL_BORE_NAME  ...  BORE_GAS_VOL  BORE_WAT_VOL\n",
              "0              5599.0          15/9-F-12  ...       38889.0         385.0\n",
              "1              5599.0          15/9-F-12  ...      285246.0           7.0\n",
              "2              5599.0          15/9-F-12  ...      509955.0           1.0\n",
              "3              5599.0          15/9-F-12  ...      383427.0           1.0\n",
              "4              5599.0          15/9-F-12  ...      418474.0           5.0\n",
              "\n",
              "[5 rows x 14 columns]"
            ]
          },
          "metadata": {},
          "execution_count": 3
        }
      ]
    },
    {
      "cell_type": "code",
      "metadata": {
        "colab": {
          "base_uri": "https://localhost:8080/"
        },
        "id": "LRLo0fB92bEX",
        "outputId": "e986d592-a11c-4fa2-8a16-7fa98e2a10f5"
      },
      "source": [
        "train.info()"
      ],
      "execution_count": 4,
      "outputs": [
        {
          "output_type": "stream",
          "text": [
            "<class 'pandas.core.frame.DataFrame'>\n",
            "RangeIndex: 2500 entries, 0 to 2499\n",
            "Data columns (total 14 columns):\n",
            " #   Column                    Non-Null Count  Dtype  \n",
            "---  ------                    --------------  -----  \n",
            " 0   NPD_WELL_BORE_CODE        2498 non-null   float64\n",
            " 1   NPD_WELL_BORE_NAME        2500 non-null   object \n",
            " 2   ON_STREAM_HRS             2499 non-null   float64\n",
            " 3   AVG_DOWNHOLE_PRESSURE     2498 non-null   float64\n",
            " 4   AVG_DOWNHOLE_TEMPERATURE  2492 non-null   float64\n",
            " 5   AVG_DP_TUBING             2493 non-null   float64\n",
            " 6   AVG_ANNULUS_PRESS         2492 non-null   float64\n",
            " 7   AVG_CHOKE_SIZE_P          2495 non-null   float64\n",
            " 8   AVG_WHP_P                 2495 non-null   float64\n",
            " 9   AVG_WHT_P                 2496 non-null   float64\n",
            " 10  DP_CHOKE_SIZE             2496 non-null   float64\n",
            " 11  BORE_OIL_VOL              2490 non-null   float64\n",
            " 12  BORE_GAS_VOL              2495 non-null   float64\n",
            " 13  BORE_WAT_VOL              2495 non-null   float64\n",
            "dtypes: float64(13), object(1)\n",
            "memory usage: 273.6+ KB\n"
          ],
          "name": "stdout"
        }
      ]
    },
    {
      "cell_type": "code",
      "metadata": {
        "colab": {
          "base_uri": "https://localhost:8080/",
          "height": 222
        },
        "id": "hEvZkW9w2vYa",
        "outputId": "023290f4-0ad3-4687-fc36-c5bd2348cfff"
      },
      "source": [
        "test.head()"
      ],
      "execution_count": 5,
      "outputs": [
        {
          "output_type": "execute_result",
          "data": {
            "text/html": [
              "<div>\n",
              "<style scoped>\n",
              "    .dataframe tbody tr th:only-of-type {\n",
              "        vertical-align: middle;\n",
              "    }\n",
              "\n",
              "    .dataframe tbody tr th {\n",
              "        vertical-align: top;\n",
              "    }\n",
              "\n",
              "    .dataframe thead th {\n",
              "        text-align: right;\n",
              "    }\n",
              "</style>\n",
              "<table border=\"1\" class=\"dataframe\">\n",
              "  <thead>\n",
              "    <tr style=\"text-align: right;\">\n",
              "      <th></th>\n",
              "      <th>NPD_WELL_BORE_CODE</th>\n",
              "      <th>NPD_WELL_BORE_NAME</th>\n",
              "      <th>ON_STREAM_HRS</th>\n",
              "      <th>AVG_DOWNHOLE_PRESSURE</th>\n",
              "      <th>AVG_DOWNHOLE_TEMPERATURE</th>\n",
              "      <th>AVG_DP_TUBING</th>\n",
              "      <th>AVG_ANNULUS_PRESS</th>\n",
              "      <th>AVG_CHOKE_SIZE_P</th>\n",
              "      <th>AVG_WHP_P</th>\n",
              "      <th>AVG_WHT_P</th>\n",
              "      <th>DP_CHOKE_SIZE</th>\n",
              "      <th>BORE_GAS_VOL</th>\n",
              "      <th>BORE_WAT_VOL</th>\n",
              "    </tr>\n",
              "  </thead>\n",
              "  <tbody>\n",
              "    <tr>\n",
              "      <th>0</th>\n",
              "      <td>5599</td>\n",
              "      <td>15/9-F-12</td>\n",
              "      <td>24.0</td>\n",
              "      <td>0</td>\n",
              "      <td>0</td>\n",
              "      <td>52.147</td>\n",
              "      <td>28.714</td>\n",
              "      <td>35.23351</td>\n",
              "      <td>52.147</td>\n",
              "      <td>72.510</td>\n",
              "      <td>23.500</td>\n",
              "      <td>105134.0</td>\n",
              "      <td>712.0</td>\n",
              "    </tr>\n",
              "    <tr>\n",
              "      <th>1</th>\n",
              "      <td>5599</td>\n",
              "      <td>15/9-F-12</td>\n",
              "      <td>24.0</td>\n",
              "      <td>0</td>\n",
              "      <td>0</td>\n",
              "      <td>51.696</td>\n",
              "      <td>28.870</td>\n",
              "      <td>35.46763</td>\n",
              "      <td>51.696</td>\n",
              "      <td>73.466</td>\n",
              "      <td>23.056</td>\n",
              "      <td>105584.0</td>\n",
              "      <td>716.0</td>\n",
              "    </tr>\n",
              "    <tr>\n",
              "      <th>2</th>\n",
              "      <td>5599</td>\n",
              "      <td>15/9-F-12</td>\n",
              "      <td>24.0</td>\n",
              "      <td>0</td>\n",
              "      <td>0</td>\n",
              "      <td>51.508</td>\n",
              "      <td>28.703</td>\n",
              "      <td>35.57401</td>\n",
              "      <td>51.508</td>\n",
              "      <td>72.680</td>\n",
              "      <td>22.845</td>\n",
              "      <td>103868.0</td>\n",
              "      <td>720.0</td>\n",
              "    </tr>\n",
              "    <tr>\n",
              "      <th>3</th>\n",
              "      <td>5599</td>\n",
              "      <td>15/9-F-12</td>\n",
              "      <td>24.0</td>\n",
              "      <td>0</td>\n",
              "      <td>0</td>\n",
              "      <td>51.184</td>\n",
              "      <td>28.510</td>\n",
              "      <td>35.65656</td>\n",
              "      <td>51.184</td>\n",
              "      <td>71.846</td>\n",
              "      <td>22.524</td>\n",
              "      <td>104654.0</td>\n",
              "      <td>732.0</td>\n",
              "    </tr>\n",
              "    <tr>\n",
              "      <th>4</th>\n",
              "      <td>5599</td>\n",
              "      <td>15/9-F-12</td>\n",
              "      <td>24.0</td>\n",
              "      <td>0</td>\n",
              "      <td>0</td>\n",
              "      <td>50.529</td>\n",
              "      <td>28.338</td>\n",
              "      <td>35.71326</td>\n",
              "      <td>50.529</td>\n",
              "      <td>71.837</td>\n",
              "      <td>21.861</td>\n",
              "      <td>105072.0</td>\n",
              "      <td>717.0</td>\n",
              "    </tr>\n",
              "  </tbody>\n",
              "</table>\n",
              "</div>"
            ],
            "text/plain": [
              "   NPD_WELL_BORE_CODE NPD_WELL_BORE_NAME  ...  BORE_GAS_VOL  BORE_WAT_VOL\n",
              "0                5599          15/9-F-12  ...      105134.0         712.0\n",
              "1                5599          15/9-F-12  ...      105584.0         716.0\n",
              "2                5599          15/9-F-12  ...      103868.0         720.0\n",
              "3                5599          15/9-F-12  ...      104654.0         732.0\n",
              "4                5599          15/9-F-12  ...      105072.0         717.0\n",
              "\n",
              "[5 rows x 13 columns]"
            ]
          },
          "metadata": {},
          "execution_count": 5
        }
      ]
    },
    {
      "cell_type": "code",
      "metadata": {
        "colab": {
          "base_uri": "https://localhost:8080/"
        },
        "id": "2EYADew42xcM",
        "outputId": "52ce816e-6e70-4f34-f117-8fbc74ec251f"
      },
      "source": [
        "test.info()"
      ],
      "execution_count": 6,
      "outputs": [
        {
          "output_type": "stream",
          "text": [
            "<class 'pandas.core.frame.DataFrame'>\n",
            "RangeIndex: 499 entries, 0 to 498\n",
            "Data columns (total 13 columns):\n",
            " #   Column                    Non-Null Count  Dtype  \n",
            "---  ------                    --------------  -----  \n",
            " 0   NPD_WELL_BORE_CODE        499 non-null    int64  \n",
            " 1   NPD_WELL_BORE_NAME        499 non-null    object \n",
            " 2   ON_STREAM_HRS             499 non-null    float64\n",
            " 3   AVG_DOWNHOLE_PRESSURE     499 non-null    int64  \n",
            " 4   AVG_DOWNHOLE_TEMPERATURE  499 non-null    int64  \n",
            " 5   AVG_DP_TUBING             492 non-null    float64\n",
            " 6   AVG_ANNULUS_PRESS         493 non-null    float64\n",
            " 7   AVG_CHOKE_SIZE_P          494 non-null    float64\n",
            " 8   AVG_WHP_P                 496 non-null    float64\n",
            " 9   AVG_WHT_P                 493 non-null    float64\n",
            " 10  DP_CHOKE_SIZE             494 non-null    float64\n",
            " 11  BORE_GAS_VOL              493 non-null    float64\n",
            " 12  BORE_WAT_VOL              492 non-null    float64\n",
            "dtypes: float64(9), int64(3), object(1)\n",
            "memory usage: 50.8+ KB\n"
          ],
          "name": "stdout"
        }
      ]
    },
    {
      "cell_type": "code",
      "metadata": {
        "colab": {
          "base_uri": "https://localhost:8080/",
          "height": 314
        },
        "id": "bCm3kj_H23cr",
        "outputId": "327e0bc2-6dac-472f-d60a-ea4a8eef7a09"
      },
      "source": [
        "train.describe()"
      ],
      "execution_count": 7,
      "outputs": [
        {
          "output_type": "execute_result",
          "data": {
            "text/html": [
              "<div>\n",
              "<style scoped>\n",
              "    .dataframe tbody tr th:only-of-type {\n",
              "        vertical-align: middle;\n",
              "    }\n",
              "\n",
              "    .dataframe tbody tr th {\n",
              "        vertical-align: top;\n",
              "    }\n",
              "\n",
              "    .dataframe thead th {\n",
              "        text-align: right;\n",
              "    }\n",
              "</style>\n",
              "<table border=\"1\" class=\"dataframe\">\n",
              "  <thead>\n",
              "    <tr style=\"text-align: right;\">\n",
              "      <th></th>\n",
              "      <th>NPD_WELL_BORE_CODE</th>\n",
              "      <th>ON_STREAM_HRS</th>\n",
              "      <th>AVG_DOWNHOLE_PRESSURE</th>\n",
              "      <th>AVG_DOWNHOLE_TEMPERATURE</th>\n",
              "      <th>AVG_DP_TUBING</th>\n",
              "      <th>AVG_ANNULUS_PRESS</th>\n",
              "      <th>AVG_CHOKE_SIZE_P</th>\n",
              "      <th>AVG_WHP_P</th>\n",
              "      <th>AVG_WHT_P</th>\n",
              "      <th>DP_CHOKE_SIZE</th>\n",
              "      <th>BORE_OIL_VOL</th>\n",
              "      <th>BORE_GAS_VOL</th>\n",
              "      <th>BORE_WAT_VOL</th>\n",
              "    </tr>\n",
              "  </thead>\n",
              "  <tbody>\n",
              "    <tr>\n",
              "      <th>count</th>\n",
              "      <td>2498.0</td>\n",
              "      <td>2499.000000</td>\n",
              "      <td>2498.000000</td>\n",
              "      <td>2492.000000</td>\n",
              "      <td>2493.000000</td>\n",
              "      <td>2492.000000</td>\n",
              "      <td>2495.000000</td>\n",
              "      <td>2495.000000</td>\n",
              "      <td>2496.000000</td>\n",
              "      <td>2496.000000</td>\n",
              "      <td>2490.000000</td>\n",
              "      <td>2495.000000</td>\n",
              "      <td>2495.000000</td>\n",
              "    </tr>\n",
              "    <tr>\n",
              "      <th>mean</th>\n",
              "      <td>5599.0</td>\n",
              "      <td>21.204106</td>\n",
              "      <td>98.946740</td>\n",
              "      <td>40.659215</td>\n",
              "      <td>97.328776</td>\n",
              "      <td>16.690249</td>\n",
              "      <td>66.177557</td>\n",
              "      <td>52.143907</td>\n",
              "      <td>80.020514</td>\n",
              "      <td>22.623661</td>\n",
              "      <td>1752.616867</td>\n",
              "      <td>255293.340681</td>\n",
              "      <td>2503.943487</td>\n",
              "    </tr>\n",
              "    <tr>\n",
              "      <th>std</th>\n",
              "      <td>0.0</td>\n",
              "      <td>6.970983</td>\n",
              "      <td>125.947923</td>\n",
              "      <td>51.722656</td>\n",
              "      <td>74.578452</td>\n",
              "      <td>6.578753</td>\n",
              "      <td>29.862094</td>\n",
              "      <td>24.416289</td>\n",
              "      <td>19.990477</td>\n",
              "      <td>23.531784</td>\n",
              "      <td>1736.284570</td>\n",
              "      <td>245136.405876</td>\n",
              "      <td>2057.812677</td>\n",
              "    </tr>\n",
              "    <tr>\n",
              "      <th>min</th>\n",
              "      <td>5599.0</td>\n",
              "      <td>0.000000</td>\n",
              "      <td>0.000000</td>\n",
              "      <td>0.000000</td>\n",
              "      <td>0.058000</td>\n",
              "      <td>0.000000</td>\n",
              "      <td>0.000000</td>\n",
              "      <td>0.000000</td>\n",
              "      <td>0.035000</td>\n",
              "      <td>0.058000</td>\n",
              "      <td>0.000000</td>\n",
              "      <td>0.000000</td>\n",
              "      <td>-458.000000</td>\n",
              "    </tr>\n",
              "    <tr>\n",
              "      <th>25%</th>\n",
              "      <td>5599.0</td>\n",
              "      <td>24.000000</td>\n",
              "      <td>0.000000</td>\n",
              "      <td>0.000000</td>\n",
              "      <td>33.614000</td>\n",
              "      <td>13.182000</td>\n",
              "      <td>48.259940</td>\n",
              "      <td>33.560500</td>\n",
              "      <td>79.332250</td>\n",
              "      <td>4.868250</td>\n",
              "      <td>295.500000</td>\n",
              "      <td>46059.000000</td>\n",
              "      <td>54.000000</td>\n",
              "    </tr>\n",
              "    <tr>\n",
              "      <th>50%</th>\n",
              "      <td>5599.0</td>\n",
              "      <td>24.000000</td>\n",
              "      <td>0.000000</td>\n",
              "      <td>0.000000</td>\n",
              "      <td>48.992000</td>\n",
              "      <td>16.474500</td>\n",
              "      <td>65.974740</td>\n",
              "      <td>45.963000</td>\n",
              "      <td>88.067500</td>\n",
              "      <td>14.415000</td>\n",
              "      <td>968.500000</td>\n",
              "      <td>149118.000000</td>\n",
              "      <td>3088.000000</td>\n",
              "    </tr>\n",
              "    <tr>\n",
              "      <th>75%</th>\n",
              "      <td>5599.0</td>\n",
              "      <td>24.000000</td>\n",
              "      <td>250.771250</td>\n",
              "      <td>106.397250</td>\n",
              "      <td>175.979000</td>\n",
              "      <td>20.661500</td>\n",
              "      <td>99.169365</td>\n",
              "      <td>64.519500</td>\n",
              "      <td>90.552000</td>\n",
              "      <td>32.230250</td>\n",
              "      <td>3056.250000</td>\n",
              "      <td>445882.000000</td>\n",
              "      <td>4554.000000</td>\n",
              "    </tr>\n",
              "    <tr>\n",
              "      <th>max</th>\n",
              "      <td>5599.0</td>\n",
              "      <td>25.000000</td>\n",
              "      <td>317.701000</td>\n",
              "      <td>107.508000</td>\n",
              "      <td>314.409000</td>\n",
              "      <td>30.020000</td>\n",
              "      <td>100.000000</td>\n",
              "      <td>137.311000</td>\n",
              "      <td>92.459000</td>\n",
              "      <td>124.123000</td>\n",
              "      <td>5902.000000</td>\n",
              "      <td>851132.000000</td>\n",
              "      <td>8020.000000</td>\n",
              "    </tr>\n",
              "  </tbody>\n",
              "</table>\n",
              "</div>"
            ],
            "text/plain": [
              "       NPD_WELL_BORE_CODE  ON_STREAM_HRS  ...   BORE_GAS_VOL  BORE_WAT_VOL\n",
              "count              2498.0    2499.000000  ...    2495.000000   2495.000000\n",
              "mean               5599.0      21.204106  ...  255293.340681   2503.943487\n",
              "std                   0.0       6.970983  ...  245136.405876   2057.812677\n",
              "min                5599.0       0.000000  ...       0.000000   -458.000000\n",
              "25%                5599.0      24.000000  ...   46059.000000     54.000000\n",
              "50%                5599.0      24.000000  ...  149118.000000   3088.000000\n",
              "75%                5599.0      24.000000  ...  445882.000000   4554.000000\n",
              "max                5599.0      25.000000  ...  851132.000000   8020.000000\n",
              "\n",
              "[8 rows x 13 columns]"
            ]
          },
          "metadata": {},
          "execution_count": 7
        }
      ]
    },
    {
      "cell_type": "code",
      "metadata": {
        "colab": {
          "base_uri": "https://localhost:8080/",
          "height": 314
        },
        "id": "X-KUupGE26Mw",
        "outputId": "bbbfa65a-15ef-496a-afcf-0b4838fae50d"
      },
      "source": [
        "test.describe()"
      ],
      "execution_count": 8,
      "outputs": [
        {
          "output_type": "execute_result",
          "data": {
            "text/html": [
              "<div>\n",
              "<style scoped>\n",
              "    .dataframe tbody tr th:only-of-type {\n",
              "        vertical-align: middle;\n",
              "    }\n",
              "\n",
              "    .dataframe tbody tr th {\n",
              "        vertical-align: top;\n",
              "    }\n",
              "\n",
              "    .dataframe thead th {\n",
              "        text-align: right;\n",
              "    }\n",
              "</style>\n",
              "<table border=\"1\" class=\"dataframe\">\n",
              "  <thead>\n",
              "    <tr style=\"text-align: right;\">\n",
              "      <th></th>\n",
              "      <th>NPD_WELL_BORE_CODE</th>\n",
              "      <th>ON_STREAM_HRS</th>\n",
              "      <th>AVG_DOWNHOLE_PRESSURE</th>\n",
              "      <th>AVG_DOWNHOLE_TEMPERATURE</th>\n",
              "      <th>AVG_DP_TUBING</th>\n",
              "      <th>AVG_ANNULUS_PRESS</th>\n",
              "      <th>AVG_CHOKE_SIZE_P</th>\n",
              "      <th>AVG_WHP_P</th>\n",
              "      <th>AVG_WHT_P</th>\n",
              "      <th>DP_CHOKE_SIZE</th>\n",
              "      <th>BORE_GAS_VOL</th>\n",
              "      <th>BORE_WAT_VOL</th>\n",
              "    </tr>\n",
              "  </thead>\n",
              "  <tbody>\n",
              "    <tr>\n",
              "      <th>count</th>\n",
              "      <td>499.0</td>\n",
              "      <td>499.000000</td>\n",
              "      <td>499.0</td>\n",
              "      <td>499.0</td>\n",
              "      <td>492.000000</td>\n",
              "      <td>493.000000</td>\n",
              "      <td>494.000000</td>\n",
              "      <td>496.000000</td>\n",
              "      <td>493.000000</td>\n",
              "      <td>494.000000</td>\n",
              "      <td>493.000000</td>\n",
              "      <td>492.000000</td>\n",
              "    </tr>\n",
              "    <tr>\n",
              "      <th>mean</th>\n",
              "      <td>5599.0</td>\n",
              "      <td>23.425571</td>\n",
              "      <td>0.0</td>\n",
              "      <td>0.0</td>\n",
              "      <td>31.069900</td>\n",
              "      <td>20.000225</td>\n",
              "      <td>85.244240</td>\n",
              "      <td>31.243724</td>\n",
              "      <td>77.607957</td>\n",
              "      <td>4.199789</td>\n",
              "      <td>58162.770791</td>\n",
              "      <td>1105.152439</td>\n",
              "    </tr>\n",
              "    <tr>\n",
              "      <th>std</th>\n",
              "      <td>0.0</td>\n",
              "      <td>3.116973</td>\n",
              "      <td>0.0</td>\n",
              "      <td>0.0</td>\n",
              "      <td>8.867971</td>\n",
              "      <td>4.506915</td>\n",
              "      <td>27.554155</td>\n",
              "      <td>9.501805</td>\n",
              "      <td>8.006400</td>\n",
              "      <td>8.367061</td>\n",
              "      <td>25900.758834</td>\n",
              "      <td>243.461442</td>\n",
              "    </tr>\n",
              "    <tr>\n",
              "      <th>min</th>\n",
              "      <td>5599.0</td>\n",
              "      <td>0.000000</td>\n",
              "      <td>0.0</td>\n",
              "      <td>0.0</td>\n",
              "      <td>1.265000</td>\n",
              "      <td>0.000000</td>\n",
              "      <td>0.127140</td>\n",
              "      <td>1.265000</td>\n",
              "      <td>9.408000</td>\n",
              "      <td>0.255000</td>\n",
              "      <td>0.000000</td>\n",
              "      <td>0.000000</td>\n",
              "    </tr>\n",
              "    <tr>\n",
              "      <th>25%</th>\n",
              "      <td>5599.0</td>\n",
              "      <td>24.000000</td>\n",
              "      <td>0.0</td>\n",
              "      <td>0.0</td>\n",
              "      <td>26.518500</td>\n",
              "      <td>18.852000</td>\n",
              "      <td>97.916670</td>\n",
              "      <td>26.520750</td>\n",
              "      <td>77.533000</td>\n",
              "      <td>0.563000</td>\n",
              "      <td>35248.000000</td>\n",
              "      <td>1115.750000</td>\n",
              "    </tr>\n",
              "    <tr>\n",
              "      <th>50%</th>\n",
              "      <td>5599.0</td>\n",
              "      <td>24.000000</td>\n",
              "      <td>0.0</td>\n",
              "      <td>0.0</td>\n",
              "      <td>27.571500</td>\n",
              "      <td>20.234000</td>\n",
              "      <td>100.000000</td>\n",
              "      <td>27.603500</td>\n",
              "      <td>79.580000</td>\n",
              "      <td>0.753000</td>\n",
              "      <td>56169.000000</td>\n",
              "      <td>1182.000000</td>\n",
              "    </tr>\n",
              "    <tr>\n",
              "      <th>75%</th>\n",
              "      <td>5599.0</td>\n",
              "      <td>24.000000</td>\n",
              "      <td>0.0</td>\n",
              "      <td>0.0</td>\n",
              "      <td>29.661000</td>\n",
              "      <td>21.225000</td>\n",
              "      <td>100.000000</td>\n",
              "      <td>29.692750</td>\n",
              "      <td>80.533000</td>\n",
              "      <td>1.070750</td>\n",
              "      <td>79515.000000</td>\n",
              "      <td>1239.000000</td>\n",
              "    </tr>\n",
              "    <tr>\n",
              "      <th>max</th>\n",
              "      <td>5599.0</td>\n",
              "      <td>24.000000</td>\n",
              "      <td>0.0</td>\n",
              "      <td>0.0</td>\n",
              "      <td>110.390000</td>\n",
              "      <td>28.870000</td>\n",
              "      <td>100.000000</td>\n",
              "      <td>110.390000</td>\n",
              "      <td>82.490000</td>\n",
              "      <td>81.751000</td>\n",
              "      <td>108156.000000</td>\n",
              "      <td>1566.000000</td>\n",
              "    </tr>\n",
              "  </tbody>\n",
              "</table>\n",
              "</div>"
            ],
            "text/plain": [
              "       NPD_WELL_BORE_CODE  ON_STREAM_HRS  ...   BORE_GAS_VOL  BORE_WAT_VOL\n",
              "count               499.0     499.000000  ...     493.000000    492.000000\n",
              "mean               5599.0      23.425571  ...   58162.770791   1105.152439\n",
              "std                   0.0       3.116973  ...   25900.758834    243.461442\n",
              "min                5599.0       0.000000  ...       0.000000      0.000000\n",
              "25%                5599.0      24.000000  ...   35248.000000   1115.750000\n",
              "50%                5599.0      24.000000  ...   56169.000000   1182.000000\n",
              "75%                5599.0      24.000000  ...   79515.000000   1239.000000\n",
              "max                5599.0      24.000000  ...  108156.000000   1566.000000\n",
              "\n",
              "[8 rows x 12 columns]"
            ]
          },
          "metadata": {},
          "execution_count": 8
        }
      ]
    },
    {
      "cell_type": "code",
      "metadata": {
        "colab": {
          "base_uri": "https://localhost:8080/"
        },
        "id": "iGjhrp1s3sGG",
        "outputId": "f2b3cfd5-8576-4c18-808c-1d583d70cba9"
      },
      "source": [
        "train.isna().sum()"
      ],
      "execution_count": 9,
      "outputs": [
        {
          "output_type": "execute_result",
          "data": {
            "text/plain": [
              "NPD_WELL_BORE_CODE           2\n",
              "NPD_WELL_BORE_NAME           0\n",
              "ON_STREAM_HRS                1\n",
              "AVG_DOWNHOLE_PRESSURE        2\n",
              "AVG_DOWNHOLE_TEMPERATURE     8\n",
              "AVG_DP_TUBING                7\n",
              "AVG_ANNULUS_PRESS            8\n",
              "AVG_CHOKE_SIZE_P             5\n",
              "AVG_WHP_P                    5\n",
              "AVG_WHT_P                    4\n",
              "DP_CHOKE_SIZE                4\n",
              "BORE_OIL_VOL                10\n",
              "BORE_GAS_VOL                 5\n",
              "BORE_WAT_VOL                 5\n",
              "dtype: int64"
            ]
          },
          "metadata": {},
          "execution_count": 9
        }
      ]
    },
    {
      "cell_type": "code",
      "metadata": {
        "colab": {
          "base_uri": "https://localhost:8080/"
        },
        "id": "pP-24Of_3zPf",
        "outputId": "90a35d98-9812-4285-ef3c-7237831aa872"
      },
      "source": [
        "test.isna().sum()"
      ],
      "execution_count": 10,
      "outputs": [
        {
          "output_type": "execute_result",
          "data": {
            "text/plain": [
              "NPD_WELL_BORE_CODE          0\n",
              "NPD_WELL_BORE_NAME          0\n",
              "ON_STREAM_HRS               0\n",
              "AVG_DOWNHOLE_PRESSURE       0\n",
              "AVG_DOWNHOLE_TEMPERATURE    0\n",
              "AVG_DP_TUBING               7\n",
              "AVG_ANNULUS_PRESS           6\n",
              "AVG_CHOKE_SIZE_P            5\n",
              "AVG_WHP_P                   3\n",
              "AVG_WHT_P                   6\n",
              "DP_CHOKE_SIZE               5\n",
              "BORE_GAS_VOL                6\n",
              "BORE_WAT_VOL                7\n",
              "dtype: int64"
            ]
          },
          "metadata": {},
          "execution_count": 10
        }
      ]
    },
    {
      "cell_type": "markdown",
      "metadata": {
        "id": "ynXxxW-v4NXQ"
      },
      "source": [
        "**DATA CLEANING**"
      ]
    },
    {
      "cell_type": "code",
      "metadata": {
        "id": "s4AR-lKc4NBi"
      },
      "source": [
        "# for better conversion combined both dataset\n",
        "train['clean'] = 0 \n",
        "test['clean'] = 1"
      ],
      "execution_count": 11,
      "outputs": []
    },
    {
      "cell_type": "code",
      "metadata": {
        "id": "fKAk0TFt32H3"
      },
      "source": [
        "Final = pd.concat([train,test], axis=0)"
      ],
      "execution_count": 12,
      "outputs": []
    },
    {
      "cell_type": "code",
      "metadata": {
        "colab": {
          "base_uri": "https://localhost:8080/"
        },
        "id": "nU0ynTbJ4iIG",
        "outputId": "03f17926-2c76-4eba-8903-04037e8a386a"
      },
      "source": [
        "Final.shape"
      ],
      "execution_count": 13,
      "outputs": [
        {
          "output_type": "execute_result",
          "data": {
            "text/plain": [
              "(2999, 15)"
            ]
          },
          "metadata": {},
          "execution_count": 13
        }
      ]
    },
    {
      "cell_type": "code",
      "metadata": {
        "id": "XA-10X0z4jkN"
      },
      "source": [
        "Final.drop(['NPD_WELL_BORE_CODE','NPD_WELL_BORE_NAME'],axis=1,inplace=True)"
      ],
      "execution_count": 14,
      "outputs": []
    },
    {
      "cell_type": "code",
      "metadata": {
        "id": "FmhN08Po4uxP"
      },
      "source": [
        "#handling null values\n",
        "Final['ON_STREAM_HRS'].fillna(Final['ON_STREAM_HRS'].mean(), inplace=True)\n",
        "Final['AVG_DOWNHOLE_PRESSURE'].fillna(Final['AVG_DOWNHOLE_PRESSURE'].mean(), inplace=True)\n",
        "Final['AVG_DOWNHOLE_TEMPERATURE'].fillna(Final['AVG_DOWNHOLE_TEMPERATURE'].mean(), inplace=True)\n",
        "Final['AVG_DP_TUBING'].fillna(Final['AVG_DP_TUBING'].mean(), inplace=True)\n",
        "Final['AVG_ANNULUS_PRESS'].fillna(Final['AVG_ANNULUS_PRESS'].mean(), inplace=True)\n",
        "Final['AVG_CHOKE_SIZE_P'].fillna(Final['AVG_CHOKE_SIZE_P'].mean(), inplace=True)\n",
        "Final['AVG_WHP_P'].fillna(Final['AVG_WHP_P'].mean(), inplace=True)\n",
        "Final['AVG_WHT_P'].fillna(Final['AVG_WHT_P'].mean(), inplace=True)\n",
        "Final['DP_CHOKE_SIZE'].fillna(Final['DP_CHOKE_SIZE'].mean(), inplace=True)\n",
        "Final['BORE_GAS_VOL'].fillna(Final['BORE_GAS_VOL'].mean(), inplace=True)\n",
        "Final['BORE_WAT_VOL'].fillna(Final['BORE_WAT_VOL'].mean(), inplace=True)"
      ],
      "execution_count": 15,
      "outputs": []
    },
    {
      "cell_type": "code",
      "metadata": {
        "colab": {
          "base_uri": "https://localhost:8080/"
        },
        "id": "qsahn4-m5qUI",
        "outputId": "cfcdab78-9133-4fdc-e576-fa4a1e8dea19"
      },
      "source": [
        "Final.isna().sum()"
      ],
      "execution_count": 16,
      "outputs": [
        {
          "output_type": "execute_result",
          "data": {
            "text/plain": [
              "ON_STREAM_HRS                 0\n",
              "AVG_DOWNHOLE_PRESSURE         0\n",
              "AVG_DOWNHOLE_TEMPERATURE      0\n",
              "AVG_DP_TUBING                 0\n",
              "AVG_ANNULUS_PRESS             0\n",
              "AVG_CHOKE_SIZE_P              0\n",
              "AVG_WHP_P                     0\n",
              "AVG_WHT_P                     0\n",
              "DP_CHOKE_SIZE                 0\n",
              "BORE_OIL_VOL                509\n",
              "BORE_GAS_VOL                  0\n",
              "BORE_WAT_VOL                  0\n",
              "clean                         0\n",
              "dtype: int64"
            ]
          },
          "metadata": {},
          "execution_count": 16
        }
      ]
    },
    {
      "cell_type": "code",
      "metadata": {
        "colab": {
          "base_uri": "https://localhost:8080/",
          "height": 297
        },
        "id": "dZYhtXB15sxo",
        "outputId": "2df6e829-cd36-474b-98c3-a2595e8e8db4"
      },
      "source": [
        "import seaborn as sns\n",
        "sns.histplot(x=Final['ON_STREAM_HRS'],data=Final)\n"
      ],
      "execution_count": 17,
      "outputs": [
        {
          "output_type": "execute_result",
          "data": {
            "text/plain": [
              "<matplotlib.axes._subplots.AxesSubplot at 0x7fac8e1fff90>"
            ]
          },
          "metadata": {},
          "execution_count": 17
        },
        {
          "output_type": "display_data",
          "data": {
            "image/png": "[encoded data removed]",
            "text/plain": [
              "<Figure size 432x288 with 1 Axes>"
            ]
          },
          "metadata": {
            "needs_background": "light"
          }
        }
      ]
    },
    {
      "cell_type": "code",
      "metadata": {
        "colab": {
          "base_uri": "https://localhost:8080/",
          "height": 297
        },
        "id": "yDI3gcQT6yRr",
        "outputId": "22fbade9-5073-4d9d-a818-72c0dce5d4f5"
      },
      "source": [
        "sns.histplot(x=Final['AVG_DOWNHOLE_PRESSURE'],data=Final)\n"
      ],
      "execution_count": 18,
      "outputs": [
        {
          "output_type": "execute_result",
          "data": {
            "text/plain": [
              "<matplotlib.axes._subplots.AxesSubplot at 0x7fac8d6763d0>"
            ]
          },
          "metadata": {},
          "execution_count": 18
        },
        {
          "output_type": "display_data",
          "data": {
            "image/png": "[encoded data removed]",
            "text/plain": [
              "<Figure size 432x288 with 1 Axes>"
            ]
          },
          "metadata": {
            "needs_background": "light"
          }
        }
      ]
    },
    {
      "cell_type": "code",
      "metadata": {
        "colab": {
          "base_uri": "https://localhost:8080/",
          "height": 297
        },
        "id": "KfFzUP6L7F0q",
        "outputId": "1655d0bb-7f7f-44cc-e631-231f7bc1d282"
      },
      "source": [
        "sns.histplot(x=Final['AVG_DOWNHOLE_TEMPERATURE'],data=Final)\n"
      ],
      "execution_count": 19,
      "outputs": [
        {
          "output_type": "execute_result",
          "data": {
            "text/plain": [
              "<matplotlib.axes._subplots.AxesSubplot at 0x7fac8d15bbd0>"
            ]
          },
          "metadata": {},
          "execution_count": 19
        },
        {
          "output_type": "display_data",
          "data": {
            "image/png": "[encoded data removed]",
            "text/plain": [
              "<Figure size 432x288 with 1 Axes>"
            ]
          },
          "metadata": {
            "needs_background": "light"
          }
        }
      ]
    },
    {
      "cell_type": "code",
      "metadata": {
        "colab": {
          "base_uri": "https://localhost:8080/",
          "height": 297
        },
        "id": "uFsKs0uV779a",
        "outputId": "b4734af7-d2e4-48ce-ea94-74de1db6c71a"
      },
      "source": [
        "sns.histplot(x=Final['AVG_DP_TUBING'],data=Final)\n"
      ],
      "execution_count": 20,
      "outputs": [
        {
          "output_type": "execute_result",
          "data": {
            "text/plain": [
              "<matplotlib.axes._subplots.AxesSubplot at 0x7fac8d111110>"
            ]
          },
          "metadata": {},
          "execution_count": 20
        },
        {
          "output_type": "display_data",
          "data": {
            "image/png": "[encoded data removed]",
            "text/plain": [
              "<Figure size 432x288 with 1 Axes>"
            ]
          },
          "metadata": {
            "needs_background": "light"
          }
        }
      ]
    },
    {
      "cell_type": "code",
      "metadata": {
        "colab": {
          "base_uri": "https://localhost:8080/",
          "height": 297
        },
        "id": "Qa4N2Gy-7-Ut",
        "outputId": "c17d91e5-fea6-4610-bf61-fabe668007c6"
      },
      "source": [
        "sns.histplot(x=Final['AVG_ANNULUS_PRESS'],data=Final)\n"
      ],
      "execution_count": 21,
      "outputs": [
        {
          "output_type": "execute_result",
          "data": {
            "text/plain": [
              "<matplotlib.axes._subplots.AxesSubplot at 0x7fac8d0a82d0>"
            ]
          },
          "metadata": {},
          "execution_count": 21
        },
        {
          "output_type": "display_data",
          "data": {
            "image/png": "[encoded data removed]",
            "text/plain": [
              "<Figure size 432x288 with 1 Axes>"
            ]
          },
          "metadata": {
            "needs_background": "light"
          }
        }
      ]
    },
    {
      "cell_type": "code",
      "metadata": {
        "colab": {
          "base_uri": "https://localhost:8080/",
          "height": 297
        },
        "id": "3y7mSa2Q8AT3",
        "outputId": "35561b4d-e209-4494-9f9d-b9ca29c289e3"
      },
      "source": [
        "sns.histplot(x=Final['AVG_CHOKE_SIZE_P'],data=Final)\n"
      ],
      "execution_count": 22,
      "outputs": [
        {
          "output_type": "execute_result",
          "data": {
            "text/plain": [
              "<matplotlib.axes._subplots.AxesSubplot at 0x7fac8ecea650>"
            ]
          },
          "metadata": {},
          "execution_count": 22
        },
        {
          "output_type": "display_data",
          "data": {
            "image/png": "[encoded data removed]",
            "text/plain": [
              "<Figure size 432x288 with 1 Axes>"
            ]
          },
          "metadata": {
            "needs_background": "light"
          }
        }
      ]
    },
    {
      "cell_type": "code",
      "metadata": {
        "colab": {
          "base_uri": "https://localhost:8080/",
          "height": 297
        },
        "id": "TZVOEW_88HJt",
        "outputId": "1e4aa89c-3b60-42a5-c537-9cf1a962ddd5"
      },
      "source": [
        "sns.histplot(x=Final['ON_STREAM_HRS'],data=Final)\n"
      ],
      "execution_count": 23,
      "outputs": [
        {
          "output_type": "execute_result",
          "data": {
            "text/plain": [
              "<matplotlib.axes._subplots.AxesSubplot at 0x7fac8ecea610>"
            ]
          },
          "metadata": {},
          "execution_count": 23
        },
        {
          "output_type": "display_data",
          "data": {
            "image/png": "[encoded data removed]",
            "text/plain": [
              "<Figure size 432x288 with 1 Axes>"
            ]
          },
          "metadata": {
            "needs_background": "light"
          }
        }
      ]
    },
    {
      "cell_type": "code",
      "metadata": {
        "colab": {
          "base_uri": "https://localhost:8080/",
          "height": 297
        },
        "id": "CGgR_VOR8Ihc",
        "outputId": "4ed47ee4-bb2a-4c83-8683-17af8f2e4fae"
      },
      "source": [
        "sns.histplot(x=Final['AVG_WHP_P'],data=Final)\n"
      ],
      "execution_count": 24,
      "outputs": [
        {
          "output_type": "execute_result",
          "data": {
            "text/plain": [
              "<matplotlib.axes._subplots.AxesSubplot at 0x7fac8eb8c6d0>"
            ]
          },
          "metadata": {},
          "execution_count": 24
        },
        {
          "output_type": "display_data",
          "data": {
            "image/png": "[encoded data removed]",
            "text/plain": [
              "<Figure size 432x288 with 1 Axes>"
            ]
          },
          "metadata": {
            "needs_background": "light"
          }
        }
      ]
    },
    {
      "cell_type": "code",
      "metadata": {
        "colab": {
          "base_uri": "https://localhost:8080/",
          "height": 297
        },
        "id": "I-OKh4EW8Kdq",
        "outputId": "7e5cc7f6-550c-44d9-844d-f23b77b01b35"
      },
      "source": [
        "sns.histplot(x=Final['AVG_WHT_P'],data=Final)\n"
      ],
      "execution_count": 25,
      "outputs": [
        {
          "output_type": "execute_result",
          "data": {
            "text/plain": [
              "<matplotlib.axes._subplots.AxesSubplot at 0x7fac8ecae290>"
            ]
          },
          "metadata": {},
          "execution_count": 25
        },
        {
          "output_type": "display_data",
          "data": {
            "image/png": "[encoded data removed]",
            "text/plain": [
              "<Figure size 432x288 with 1 Axes>"
            ]
          },
          "metadata": {
            "needs_background": "light"
          }
        }
      ]
    },
    {
      "cell_type": "code",
      "metadata": {
        "colab": {
          "base_uri": "https://localhost:8080/",
          "height": 297
        },
        "id": "0oiwWLsz8MR6",
        "outputId": "05bbcf8d-8628-47ed-b81e-cccc55ba7ab7"
      },
      "source": [
        "sns.histplot(x=Final['DP_CHOKE_SIZE'],data=Final)\n"
      ],
      "execution_count": 26,
      "outputs": [
        {
          "output_type": "execute_result",
          "data": {
            "text/plain": [
              "<matplotlib.axes._subplots.AxesSubplot at 0x7fac8cf0a050>"
            ]
          },
          "metadata": {},
          "execution_count": 26
        },
        {
          "output_type": "display_data",
          "data": {
            "image/png": "[encoded data removed]",
            "text/plain": [
              "<Figure size 432x288 with 1 Axes>"
            ]
          },
          "metadata": {
            "needs_background": "light"
          }
        }
      ]
    },
    {
      "cell_type": "code",
      "metadata": {
        "colab": {
          "base_uri": "https://localhost:8080/",
          "height": 299
        },
        "id": "oDN90GA58N3d",
        "outputId": "86ed91f6-ab71-4a41-a984-e0df4d7a72b8"
      },
      "source": [
        "sns.histplot(x=Final['BORE_WAT_VOL'],data=Final)"
      ],
      "execution_count": 27,
      "outputs": [
        {
          "output_type": "execute_result",
          "data": {
            "text/plain": [
              "<matplotlib.axes._subplots.AxesSubplot at 0x7fac8cd48810>"
            ]
          },
          "metadata": {},
          "execution_count": 27
        },
        {
          "output_type": "display_data",
          "data": {
            "image/png": "[encoded data removed]",
            "text/plain": [
              "<Figure size 432x288 with 1 Axes>"
            ]
          },
          "metadata": {
            "needs_background": "light"
          }
        }
      ]
    },
    {
      "cell_type": "code",
      "metadata": {
        "colab": {
          "base_uri": "https://localhost:8080/"
        },
        "id": "qHmSP2lXHgJj",
        "outputId": "d8343bc4-0a62-47c0-8350-31436402e669"
      },
      "source": [
        "Final.columns"
      ],
      "execution_count": 28,
      "outputs": [
        {
          "output_type": "execute_result",
          "data": {
            "text/plain": [
              "Index(['ON_STREAM_HRS', 'AVG_DOWNHOLE_PRESSURE', 'AVG_DOWNHOLE_TEMPERATURE',\n",
              "       'AVG_DP_TUBING', 'AVG_ANNULUS_PRESS', 'AVG_CHOKE_SIZE_P', 'AVG_WHP_P',\n",
              "       'AVG_WHT_P', 'DP_CHOKE_SIZE', 'BORE_OIL_VOL', 'BORE_GAS_VOL',\n",
              "       'BORE_WAT_VOL', 'clean'],\n",
              "      dtype='object')"
            ]
          },
          "metadata": {},
          "execution_count": 28
        }
      ]
    },
    {
      "cell_type": "code",
      "metadata": {
        "id": "tTZB-ErT9Ykp"
      },
      "source": [
        "#as you can see several data column is not normally distributed (skewed data)\n",
        "\n",
        "#let's standardize data\n",
        "minmax=MinMaxScaler()\n",
        "Final[['ON_STREAM_HRS', 'AVG_DOWNHOLE_PRESSURE', 'AVG_DOWNHOLE_TEMPERATURE','AVG_DP_TUBING', 'AVG_ANNULUS_PRESS', 'AVG_CHOKE_SIZE_P', 'AVG_WHP_P',\n",
        "       'AVG_WHT_P', 'DP_CHOKE_SIZE','BORE_GAS_VOL','BORE_WAT_VOL']]=minmax.fit_transform(Final[['ON_STREAM_HRS', 'AVG_DOWNHOLE_PRESSURE', 'AVG_DOWNHOLE_TEMPERATURE',\n",
        "       'AVG_DP_TUBING', 'AVG_ANNULUS_PRESS', 'AVG_CHOKE_SIZE_P', 'AVG_WHP_P',\n",
        "       'AVG_WHT_P', 'DP_CHOKE_SIZE','BORE_GAS_VOL',\n",
        "       'BORE_WAT_VOL']])\n",
        "# X_train=minmax.fit_transform(X_train)\n",
        "# test_cleaned=minmax.transform(test_cleaned)"
      ],
      "execution_count": 29,
      "outputs": []
    },
    {
      "cell_type": "code",
      "metadata": {
        "colab": {
          "base_uri": "https://localhost:8080/"
        },
        "id": "ZQLWLVd6IOWN",
        "outputId": "0555e413-24af-4b60-d25a-45dffdbb1e69"
      },
      "source": [
        "Final.isna().sum()"
      ],
      "execution_count": 30,
      "outputs": [
        {
          "output_type": "execute_result",
          "data": {
            "text/plain": [
              "ON_STREAM_HRS                 0\n",
              "AVG_DOWNHOLE_PRESSURE         0\n",
              "AVG_DOWNHOLE_TEMPERATURE      0\n",
              "AVG_DP_TUBING                 0\n",
              "AVG_ANNULUS_PRESS             0\n",
              "AVG_CHOKE_SIZE_P              0\n",
              "AVG_WHP_P                     0\n",
              "AVG_WHT_P                     0\n",
              "DP_CHOKE_SIZE                 0\n",
              "BORE_OIL_VOL                509\n",
              "BORE_GAS_VOL                  0\n",
              "BORE_WAT_VOL                  0\n",
              "clean                         0\n",
              "dtype: int64"
            ]
          },
          "metadata": {},
          "execution_count": 30
        }
      ]
    },
    {
      "cell_type": "code",
      "metadata": {
        "id": "fnPOAGY_IF-N"
      },
      "source": [
        "#cleaned data\n",
        "train_cleaned = Final[Final['clean']==0]\n",
        "test_cleaned = Final[Final['clean']==1]"
      ],
      "execution_count": 31,
      "outputs": []
    },
    {
      "cell_type": "code",
      "metadata": {
        "colab": {
          "base_uri": "https://localhost:8080/"
        },
        "id": "I57WZRiNIV9B",
        "outputId": "b1ffb793-95f3-4fa0-8002-f3fd2f128066"
      },
      "source": [
        "train_cleaned['BORE_OIL_VOL'].fillna(train_cleaned['BORE_OIL_VOL'].mean(), inplace=True)"
      ],
      "execution_count": 32,
      "outputs": [
        {
          "output_type": "stream",
          "text": [
            "/usr/local/lib/python3.7/dist-packages/pandas/core/series.py:4536: SettingWithCopyWarning: \n",
            "A value is trying to be set on a copy of a slice from a DataFrame\n",
            "\n",
            "See the caveats in the documentation: https://pandas.pydata.org/pandas-docs/stable/user_guide/indexing.html#returning-a-view-versus-a-copy\n",
            "  downcast=downcast,\n"
          ],
          "name": "stderr"
        }
      ]
    },
    {
      "cell_type": "code",
      "metadata": {
        "colab": {
          "base_uri": "https://localhost:8080/"
        },
        "id": "4r6SPqOSIVt4",
        "outputId": "3d55631c-d313-4b7e-fcde-099f4f265427"
      },
      "source": [
        "train_cleaned.drop(['clean'],axis=1,inplace=True)"
      ],
      "execution_count": 33,
      "outputs": [
        {
          "output_type": "stream",
          "text": [
            "/usr/local/lib/python3.7/dist-packages/pandas/core/frame.py:4174: SettingWithCopyWarning: \n",
            "A value is trying to be set on a copy of a slice from a DataFrame\n",
            "\n",
            "See the caveats in the documentation: https://pandas.pydata.org/pandas-docs/stable/user_guide/indexing.html#returning-a-view-versus-a-copy\n",
            "  errors=errors,\n"
          ],
          "name": "stderr"
        }
      ]
    },
    {
      "cell_type": "code",
      "metadata": {
        "colab": {
          "base_uri": "https://localhost:8080/"
        },
        "id": "txREx48EIVhK",
        "outputId": "7bbfadab-de66-4964-83ee-85987eec4349"
      },
      "source": [
        "test_cleaned.drop(['clean','BORE_OIL_VOL'],axis=1,inplace=True)"
      ],
      "execution_count": 34,
      "outputs": [
        {
          "output_type": "stream",
          "text": [
            "/usr/local/lib/python3.7/dist-packages/pandas/core/frame.py:4174: SettingWithCopyWarning: \n",
            "A value is trying to be set on a copy of a slice from a DataFrame\n",
            "\n",
            "See the caveats in the documentation: https://pandas.pydata.org/pandas-docs/stable/user_guide/indexing.html#returning-a-view-versus-a-copy\n",
            "  errors=errors,\n"
          ],
          "name": "stderr"
        }
      ]
    },
    {
      "cell_type": "markdown",
      "metadata": {
        "id": "fyDccIrHQ35X"
      },
      "source": [
        "**MODEL BUILDING**"
      ]
    },
    {
      "cell_type": "code",
      "metadata": {
        "id": "vySB-Ch0IESL"
      },
      "source": [
        "X_train=train_cleaned.drop('BORE_OIL_VOL',axis=1)\n",
        "y_train=train_cleaned['BORE_OIL_VOL'].values\n"
      ],
      "execution_count": 35,
      "outputs": []
    },
    {
      "cell_type": "code",
      "metadata": {
        "id": "cgSlmMZz_Ls3"
      },
      "source": [
        "#LINEAR REGRESSION\n",
        "from sklearn.linear_model import LinearRegression\n"
      ],
      "execution_count": 36,
      "outputs": []
    },
    {
      "cell_type": "code",
      "metadata": {
        "id": "VmOO7rF38g9h"
      },
      "source": [
        "lnr = LinearRegression(normalize=True)"
      ],
      "execution_count": 37,
      "outputs": []
    },
    {
      "cell_type": "code",
      "metadata": {
        "colab": {
          "base_uri": "https://localhost:8080/"
        },
        "id": "WRN6so0t9HSV",
        "outputId": "dce84240-917e-41a0-ff8b-ab14374f630f"
      },
      "source": [
        "lnr.fit(X_train, y_train)"
      ],
      "execution_count": 38,
      "outputs": [
        {
          "output_type": "execute_result",
          "data": {
            "text/plain": [
              "LinearRegression(copy_X=True, fit_intercept=True, n_jobs=None, normalize=True)"
            ]
          },
          "metadata": {},
          "execution_count": 38
        }
      ]
    },
    {
      "cell_type": "code",
      "metadata": {
        "id": "zu0lVQUr8iAZ"
      },
      "source": [
        "pred_y = lnr.predict(X_train)"
      ],
      "execution_count": 39,
      "outputs": []
    },
    {
      "cell_type": "code",
      "metadata": {
        "id": "lCSQmWIM_hGD"
      },
      "source": [
        "from sklearn.metrics import r2_score"
      ],
      "execution_count": 40,
      "outputs": []
    },
    {
      "cell_type": "code",
      "metadata": {
        "id": "zZouWUpF_kdw"
      },
      "source": [
        "acc = r2_score(y_train, pred_y)"
      ],
      "execution_count": 41,
      "outputs": []
    },
    {
      "cell_type": "code",
      "metadata": {
        "colab": {
          "base_uri": "https://localhost:8080/"
        },
        "id": "FxsDvjNc_mMI",
        "outputId": "9e1222a5-8343-418e-ac06-d21c193a81fa"
      },
      "source": [
        "acc"
      ],
      "execution_count": 42,
      "outputs": [
        {
          "output_type": "execute_result",
          "data": {
            "text/plain": [
              "0.9934365601057419"
            ]
          },
          "metadata": {},
          "execution_count": 42
        }
      ]
    },
    {
      "cell_type": "code",
      "metadata": {
        "id": "4k8Xbask_m5r"
      },
      "source": [
        "#RANDOMFORESTREGRESSOR\n",
        "from sklearn.ensemble import RandomForestRegressor"
      ],
      "execution_count": 43,
      "outputs": []
    },
    {
      "cell_type": "code",
      "metadata": {
        "id": "DrYVpq3O_zth"
      },
      "source": [
        "rf = RandomForestRegressor(n_estimators=250)"
      ],
      "execution_count": 44,
      "outputs": []
    },
    {
      "cell_type": "code",
      "metadata": {
        "colab": {
          "base_uri": "https://localhost:8080/"
        },
        "id": "RRXYfs_q_4Xk",
        "outputId": "21320b0a-20f0-4ec3-b4b4-da40fba08d1f"
      },
      "source": [
        "rf.fit(X_train, y_train)"
      ],
      "execution_count": 45,
      "outputs": [
        {
          "output_type": "execute_result",
          "data": {
            "text/plain": [
              "RandomForestRegressor(bootstrap=True, ccp_alpha=0.0, criterion='mse',\n",
              "                      max_depth=None, max_features='auto', max_leaf_nodes=None,\n",
              "                      max_samples=None, min_impurity_decrease=0.0,\n",
              "                      min_impurity_split=None, min_samples_leaf=1,\n",
              "                      min_samples_split=2, min_weight_fraction_leaf=0.0,\n",
              "                      n_estimators=250, n_jobs=None, oob_score=False,\n",
              "                      random_state=None, verbose=0, warm_start=False)"
            ]
          },
          "metadata": {},
          "execution_count": 45
        }
      ]
    },
    {
      "cell_type": "code",
      "metadata": {
        "id": "2qy78tnB_45e"
      },
      "source": [
        "y_pred_rf = rf.predict(X_train)"
      ],
      "execution_count": 46,
      "outputs": []
    },
    {
      "cell_type": "code",
      "metadata": {
        "id": "2yol1Foi_7rE"
      },
      "source": [
        "acc_rf = r2_score(y_train, y_pred_rf)"
      ],
      "execution_count": 47,
      "outputs": []
    },
    {
      "cell_type": "code",
      "metadata": {
        "colab": {
          "base_uri": "https://localhost:8080/"
        },
        "id": "llxnPTmM_9dG",
        "outputId": "15ff3c12-af5c-4988-bc9d-302aa9ecfd47"
      },
      "source": [
        "acc_rf"
      ],
      "execution_count": 48,
      "outputs": [
        {
          "output_type": "execute_result",
          "data": {
            "text/plain": [
              "0.9992140069291678"
            ]
          },
          "metadata": {},
          "execution_count": 48
        }
      ]
    },
    {
      "cell_type": "code",
      "metadata": {
        "id": "BVEEVfKf_-1u"
      },
      "source": [
        "#DECISIONTREEREGRESSOR\n",
        "from sklearn.tree import DecisionTreeRegressor"
      ],
      "execution_count": 49,
      "outputs": []
    },
    {
      "cell_type": "code",
      "metadata": {
        "id": "Xu0sMRvbA9QL"
      },
      "source": [
        "dt = DecisionTreeRegressor(max_depth=12)"
      ],
      "execution_count": 50,
      "outputs": []
    },
    {
      "cell_type": "code",
      "metadata": {
        "colab": {
          "base_uri": "https://localhost:8080/"
        },
        "id": "kQJsWuqcA-x2",
        "outputId": "d63ede43-e327-45e7-d804-5fa7b6cc28a6"
      },
      "source": [
        "dt.fit(X_train, y_train)"
      ],
      "execution_count": 51,
      "outputs": [
        {
          "output_type": "execute_result",
          "data": {
            "text/plain": [
              "DecisionTreeRegressor(ccp_alpha=0.0, criterion='mse', max_depth=12,\n",
              "                      max_features=None, max_leaf_nodes=None,\n",
              "                      min_impurity_decrease=0.0, min_impurity_split=None,\n",
              "                      min_samples_leaf=1, min_samples_split=2,\n",
              "                      min_weight_fraction_leaf=0.0, presort='deprecated',\n",
              "                      random_state=None, splitter='best')"
            ]
          },
          "metadata": {},
          "execution_count": 51
        }
      ]
    },
    {
      "cell_type": "code",
      "metadata": {
        "id": "CB_g0Jh4BAZq"
      },
      "source": [
        "dt_pred_y = dt.predict(X_train)"
      ],
      "execution_count": 52,
      "outputs": []
    },
    {
      "cell_type": "code",
      "metadata": {
        "id": "ioCsdFptBCeQ"
      },
      "source": [
        "acc_dt = r2_score(y_train, dt_pred_y) "
      ],
      "execution_count": 53,
      "outputs": []
    },
    {
      "cell_type": "code",
      "metadata": {
        "colab": {
          "base_uri": "https://localhost:8080/"
        },
        "id": "3NhZbqmGBEAC",
        "outputId": "5d77eb9d-c3a4-4ce4-be6f-618b6e353852"
      },
      "source": [
        "acc_dt"
      ],
      "execution_count": 54,
      "outputs": [
        {
          "output_type": "execute_result",
          "data": {
            "text/plain": [
              "0.999977553402288"
            ]
          },
          "metadata": {},
          "execution_count": 54
        }
      ]
    },
    {
      "cell_type": "code",
      "metadata": {
        "id": "BwVVm6RJGLOq"
      },
      "source": [
        "#Now let's predict test data with randomforestregressor\n",
        "\n",
        "pred=rf.predict(test_cleaned)"
      ],
      "execution_count": 55,
      "outputs": []
    },
    {
      "cell_type": "code",
      "metadata": {
        "id": "c28sWfK8FU5q"
      },
      "source": [
        "test['BORE_OIL_VOL']=np.round(pred,2)"
      ],
      "execution_count": 56,
      "outputs": []
    },
    {
      "cell_type": "code",
      "metadata": {
        "id": "P9FLzdWwFXv7"
      },
      "source": [
        "test.drop(['clean'],axis=1,inplace=True)"
      ],
      "execution_count": 57,
      "outputs": []
    },
    {
      "cell_type": "code",
      "metadata": {
        "id": "0VGeN4HlQDbt"
      },
      "source": [
        "test.to_excel(\"/content/drive/MyDrive/dataset/kk/result.xlsx\",index=False)"
      ],
      "execution_count": 58,
      "outputs": []
    },
    {
      "cell_type": "code",
      "metadata": {
        "colab": {
          "base_uri": "https://localhost:8080/",
          "height": 435
        },
        "id": "9mjatXu7Qap4",
        "outputId": "06ab960f-06d8-4d5d-9a64-efce9ab0e4a1"
      },
      "source": [
        "test"
      ],
      "execution_count": 59,
      "outputs": [
        {
          "output_type": "execute_result",
          "data": {
            "text/html": [
              "<div>\n",
              "<style scoped>\n",
              "    .dataframe tbody tr th:only-of-type {\n",
              "        vertical-align: middle;\n",
              "    }\n",
              "\n",
              "    .dataframe tbody tr th {\n",
              "        vertical-align: top;\n",
              "    }\n",
              "\n",
              "    .dataframe thead th {\n",
              "        text-align: right;\n",
              "    }\n",
              "</style>\n",
              "<table border=\"1\" class=\"dataframe\">\n",
              "  <thead>\n",
              "    <tr style=\"text-align: right;\">\n",
              "      <th></th>\n",
              "      <th>NPD_WELL_BORE_CODE</th>\n",
              "      <th>NPD_WELL_BORE_NAME</th>\n",
              "      <th>ON_STREAM_HRS</th>\n",
              "      <th>AVG_DOWNHOLE_PRESSURE</th>\n",
              "      <th>AVG_DOWNHOLE_TEMPERATURE</th>\n",
              "      <th>AVG_DP_TUBING</th>\n",
              "      <th>AVG_ANNULUS_PRESS</th>\n",
              "      <th>AVG_CHOKE_SIZE_P</th>\n",
              "      <th>AVG_WHP_P</th>\n",
              "      <th>AVG_WHT_P</th>\n",
              "      <th>DP_CHOKE_SIZE</th>\n",
              "      <th>BORE_GAS_VOL</th>\n",
              "      <th>BORE_WAT_VOL</th>\n",
              "      <th>BORE_OIL_VOL</th>\n",
              "    </tr>\n",
              "  </thead>\n",
              "  <tbody>\n",
              "    <tr>\n",
              "      <th>0</th>\n",
              "      <td>5599</td>\n",
              "      <td>15/9-F-12</td>\n",
              "      <td>24.0</td>\n",
              "      <td>0</td>\n",
              "      <td>0</td>\n",
              "      <td>52.147</td>\n",
              "      <td>28.714</td>\n",
              "      <td>35.23351</td>\n",
              "      <td>52.147</td>\n",
              "      <td>72.510</td>\n",
              "      <td>23.500</td>\n",
              "      <td>105134.0</td>\n",
              "      <td>712.0</td>\n",
              "      <td>703.06</td>\n",
              "    </tr>\n",
              "    <tr>\n",
              "      <th>1</th>\n",
              "      <td>5599</td>\n",
              "      <td>15/9-F-12</td>\n",
              "      <td>24.0</td>\n",
              "      <td>0</td>\n",
              "      <td>0</td>\n",
              "      <td>51.696</td>\n",
              "      <td>28.870</td>\n",
              "      <td>35.46763</td>\n",
              "      <td>51.696</td>\n",
              "      <td>73.466</td>\n",
              "      <td>23.056</td>\n",
              "      <td>105584.0</td>\n",
              "      <td>716.0</td>\n",
              "      <td>704.67</td>\n",
              "    </tr>\n",
              "    <tr>\n",
              "      <th>2</th>\n",
              "      <td>5599</td>\n",
              "      <td>15/9-F-12</td>\n",
              "      <td>24.0</td>\n",
              "      <td>0</td>\n",
              "      <td>0</td>\n",
              "      <td>51.508</td>\n",
              "      <td>28.703</td>\n",
              "      <td>35.57401</td>\n",
              "      <td>51.508</td>\n",
              "      <td>72.680</td>\n",
              "      <td>22.845</td>\n",
              "      <td>103868.0</td>\n",
              "      <td>720.0</td>\n",
              "      <td>701.93</td>\n",
              "    </tr>\n",
              "    <tr>\n",
              "      <th>3</th>\n",
              "      <td>5599</td>\n",
              "      <td>15/9-F-12</td>\n",
              "      <td>24.0</td>\n",
              "      <td>0</td>\n",
              "      <td>0</td>\n",
              "      <td>51.184</td>\n",
              "      <td>28.510</td>\n",
              "      <td>35.65656</td>\n",
              "      <td>51.184</td>\n",
              "      <td>71.846</td>\n",
              "      <td>22.524</td>\n",
              "      <td>104654.0</td>\n",
              "      <td>732.0</td>\n",
              "      <td>701.47</td>\n",
              "    </tr>\n",
              "    <tr>\n",
              "      <th>4</th>\n",
              "      <td>5599</td>\n",
              "      <td>15/9-F-12</td>\n",
              "      <td>24.0</td>\n",
              "      <td>0</td>\n",
              "      <td>0</td>\n",
              "      <td>50.529</td>\n",
              "      <td>28.338</td>\n",
              "      <td>35.71326</td>\n",
              "      <td>50.529</td>\n",
              "      <td>71.837</td>\n",
              "      <td>21.861</td>\n",
              "      <td>105072.0</td>\n",
              "      <td>717.0</td>\n",
              "      <td>701.92</td>\n",
              "    </tr>\n",
              "    <tr>\n",
              "      <th>...</th>\n",
              "      <td>...</td>\n",
              "      <td>...</td>\n",
              "      <td>...</td>\n",
              "      <td>...</td>\n",
              "      <td>...</td>\n",
              "      <td>...</td>\n",
              "      <td>...</td>\n",
              "      <td>...</td>\n",
              "      <td>...</td>\n",
              "      <td>...</td>\n",
              "      <td>...</td>\n",
              "      <td>...</td>\n",
              "      <td>...</td>\n",
              "      <td>...</td>\n",
              "    </tr>\n",
              "    <tr>\n",
              "      <th>494</th>\n",
              "      <td>5599</td>\n",
              "      <td>15/9-F-12</td>\n",
              "      <td>24.0</td>\n",
              "      <td>0</td>\n",
              "      <td>0</td>\n",
              "      <td>26.999</td>\n",
              "      <td>19.916</td>\n",
              "      <td>40.27530</td>\n",
              "      <td>26.999</td>\n",
              "      <td>77.533</td>\n",
              "      <td>4.719</td>\n",
              "      <td>23020.0</td>\n",
              "      <td>1113.0</td>\n",
              "      <td>176.40</td>\n",
              "    </tr>\n",
              "    <tr>\n",
              "      <th>495</th>\n",
              "      <td>5599</td>\n",
              "      <td>15/9-F-12</td>\n",
              "      <td>24.0</td>\n",
              "      <td>0</td>\n",
              "      <td>0</td>\n",
              "      <td>27.094</td>\n",
              "      <td>19.996</td>\n",
              "      <td>40.29969</td>\n",
              "      <td>27.094</td>\n",
              "      <td>76.751</td>\n",
              "      <td>4.817</td>\n",
              "      <td>23270.0</td>\n",
              "      <td>1031.0</td>\n",
              "      <td>177.20</td>\n",
              "    </tr>\n",
              "    <tr>\n",
              "      <th>496</th>\n",
              "      <td>5599</td>\n",
              "      <td>15/9-F-12</td>\n",
              "      <td>24.0</td>\n",
              "      <td>0</td>\n",
              "      <td>0</td>\n",
              "      <td>NaN</td>\n",
              "      <td>20.129</td>\n",
              "      <td>40.01120</td>\n",
              "      <td>26.946</td>\n",
              "      <td>78.405</td>\n",
              "      <td>4.665</td>\n",
              "      <td>22802.0</td>\n",
              "      <td>977.0</td>\n",
              "      <td>162.76</td>\n",
              "    </tr>\n",
              "    <tr>\n",
              "      <th>497</th>\n",
              "      <td>5599</td>\n",
              "      <td>15/9-F-12</td>\n",
              "      <td>24.0</td>\n",
              "      <td>0</td>\n",
              "      <td>0</td>\n",
              "      <td>27.751</td>\n",
              "      <td>20.234</td>\n",
              "      <td>39.09910</td>\n",
              "      <td>27.751</td>\n",
              "      <td>78.220</td>\n",
              "      <td>5.513</td>\n",
              "      <td>21569.0</td>\n",
              "      <td>968.0</td>\n",
              "      <td>173.27</td>\n",
              "    </tr>\n",
              "    <tr>\n",
              "      <th>498</th>\n",
              "      <td>5599</td>\n",
              "      <td>15/9-F-12</td>\n",
              "      <td>24.0</td>\n",
              "      <td>0</td>\n",
              "      <td>0</td>\n",
              "      <td>26.353</td>\n",
              "      <td>20.306</td>\n",
              "      <td>NaN</td>\n",
              "      <td>26.353</td>\n",
              "      <td>79.191</td>\n",
              "      <td>4.287</td>\n",
              "      <td>21807.0</td>\n",
              "      <td>989.0</td>\n",
              "      <td>162.02</td>\n",
              "    </tr>\n",
              "  </tbody>\n",
              "</table>\n",
              "<p>499 rows × 14 columns</p>\n",
              "</div>"
            ],
            "text/plain": [
              "     NPD_WELL_BORE_CODE NPD_WELL_BORE_NAME  ...  BORE_WAT_VOL  BORE_OIL_VOL\n",
              "0                  5599          15/9-F-12  ...         712.0        703.06\n",
              "1                  5599          15/9-F-12  ...         716.0        704.67\n",
              "2                  5599          15/9-F-12  ...         720.0        701.93\n",
              "3                  5599          15/9-F-12  ...         732.0        701.47\n",
              "4                  5599          15/9-F-12  ...         717.0        701.92\n",
              "..                  ...                ...  ...           ...           ...\n",
              "494                5599          15/9-F-12  ...        1113.0        176.40\n",
              "495                5599          15/9-F-12  ...        1031.0        177.20\n",
              "496                5599          15/9-F-12  ...         977.0        162.76\n",
              "497                5599          15/9-F-12  ...         968.0        173.27\n",
              "498                5599          15/9-F-12  ...         989.0        162.02\n",
              "\n",
              "[499 rows x 14 columns]"
            ]
          },
          "metadata": {},
          "execution_count": 59
        }
      ]
    },
    {
      "cell_type": "code",
      "metadata": {
        "id": "vNH6VaA9SNLx"
      },
      "source": [
        ""
      ],
      "execution_count": 59,
      "outputs": []
    }
  ]
}